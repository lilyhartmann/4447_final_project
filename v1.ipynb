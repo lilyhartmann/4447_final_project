import pandas as pd
import numpy as np

import cenpy as cen
from collections import OrderedDict

import warnings
warnings.simplefilter('ignore')
ny_zip_ref = pd.read_csv('New_York_State_Zip_Codes-County_FIPS_Cross-Reference.csv')

# only need to keep 'County Name' and 'ZIP Code'

ny_zip_ref = ny_zip_ref[['County Name', 'ZIP Code']]
ny_zip_ref
# might not need this

sites = pd.read_csv('Voting_Poll_Sites.csv')
sites
pres = pd.read_csv('2012President.csv')

# keep select columns
pres_cols = ["county", "office", "candidate", "party", "votes"]
pres = pres[pres_cols]

# keep only where office == President
pres = pres.loc[pres['office'] == "President"]
pres = pres.drop(['office'], axis = 1)

# get voting sums
agg_functions = {'county': 'first', 'candidate': 'first', 'party': 'first', 'votes': 'sum'}
pres_agg = pres.groupby(['county', 'candidate']).aggregate(agg_functions)

# drop index
pres_agg = pres_agg.reset_index(drop = True)
pres_agg
counties = pres_agg.county.unique().tolist()
counties
# print(len(counties))
# using cenpy get NY data
acs = cen.products.ACS()
acs.from_place('NY')
# to see what categories we can look through
acs.tables
# all_options = acs.tables.description.unique().tolist()
# all_options 

# # ones to look at 
# # race
# # AGGREGATE FAMILY INCOME IN THE PAST 12 MONTHS (IN 2019 INFLATION-ADJUSTED DOLLARS)
# # marital status?
# # health insurance
# # education
## Create Dataframe on Sex Data
acs.filter_tables('SEX', by = 'description')
totalSexData = acs.filter_variables('B01001')
sexData = []
sexData0 = [] # 0 - 9
sexData1 = [] # 10 - 19
sexData2 = [] # 20 - 29
sexData3 = [] # 30 - 39
sexData4 = [] # 40 - 49
sexData5 = [] # 50 - 54

# the columns we are looking for
to_keep = ["Estimate!!Total:", "Estimate!!Total:!!Female:",
          "Estimate!!Total:!!Female:!!18 and 19 years", "Estimate!!Total:!!Female:!!20 to 24 years",
          "Estimate!!Total:!!Female:!!25 to 29 years", "Estimate!!Total:!!Female:!!30 to 34 years",
          "Estimate!!Total:!!Female:!!35 to 44 years", "Estimate!!Total:!!Female:!!45 to 54 years",
          "Estimate!!Total:!!Female:!!55 to 64 years", "Estimate!!Total:!!Female:!!65 to 74 years",
          "Estimate!!Total:!!Female:!!75 to 84 years", "Estimate!!Total:!!Female:!!85 years and over",
          "Estimate!!Total:!!Male:",
          "Estimate!!Total:!!Male:!!18 and 19 years", "Estimate!!Total:!!Male:!!20 to 24 years",
          "Estimate!!Total:!!Male:!!25 to 29 years", "Estimate!!Total:!!Male:!!30 to 34 years",
          "Estimate!!Total:!!Male:!!35 to 44 years", "Estimate!!Total:!!Male:!!45 to 54 years",
          "Estimate!!Total:!!Male:!!55 to 64 years", "Estimate!!Total:!!Male:!!65 to 74 years",
          "Estimate!!Total:!!Male:!!75 to 84 years", "Estimate!!Total:!!Male:!!85 years and over"]

# renamed column names
rename = ["Total:", "Total Female:",
          "Total Female: 18 and 19 years", "Total Female: 20 to 24 years",
          "Total Female: 25 to 29 years", "Total Female: 30 to 34 years",
          "Total Female: 35 to 44 years", "Total Female: 45 to 54 years",
          "Total Female: 55 to 64 years", "Total Female: 65 to 74 years",
          "Total Female: 75 to 84 years", "Total Female: 85 years and over",
          "Total Male:",
          "Total Male: 18 and 19 years", "Total Male: 20 to 24 years",
          "Total Male: 25 to 29 years", "Total Male: 30 to 34 years",
          "Total Male: 35 to 44 years", "Total Male: 45 to 54 years",
          "Total Male: 55 to 64 years", "Total Male: 65 to 74 years",
          "Total Male: 75 to 84 years", "Total Male: 85 years and over"]

# run in groups of 10 because of 'too many requests' error

for i in range(10):

    name = counties[i] + ", NY"
    currentDF = acs.from_county(name, variables = 'B01001')
    current = counties[i]
    
    # if first round through
    # create labels to rename the dataframes
    if i == 0:
        indexVals = totalSexData.index
        labels = totalSexData['label'].to_list()
        labelsDict = OrderedDict({})
        for key in indexVals:
            for value in labels:
                labelsDict[key] = value
                labels.remove(value)
                break

        labelsDict.update({"geometry": "geometry"})
        labelsDict.move_to_end("geometry", last = False)

        labelsDict.update({"GEOID": "GEOID"})
        labelsDict.move_to_end("GEOID", last = False)

        labelsDict.update({"state": "state"})
        labelsDict.update({"county": "county"})
        labelsDict.update({"tract": "tract"})
        labelsDict.update({"NAME": "NAME"})
    
    # rename the dataframe
    currentDF.columns = currentDF.columns.to_series().map(labelsDict)
    
    # drop the duplciate columns in the county dataframe
    currentDF = currentDF.loc[:, ~currentDF.columns.duplicated()].copy()
    
    # only keep the previously selected columns
    currentDF = currentDF[to_keep]

    # rename the columns 
    currentDF = currentDF.set_axis(rename, axis = 1)
    
    
    # get the sums for each category and put into a dictonary
    current_sums = currentDF.sum().to_dict()
    current_sums = OrderedDict(current_sums)

    current_sums.update({"County": current})
    current_sums.move_to_end("County", last = False)

    current_sums = dict(current_sums)

    # if first run through
    # get the headers for the final dataframe
    # append to the final dataframe
    if i == 0:
        headers = list(current_sums.keys())
        sexData.append(headers)
        
    # create inner_row to append
    # and append to final dataframe
    inner_row = list(current_sums.values())
    sexData0.append(inner_row)


# # make into dataframe
# sexDF = pd.DataFrame(sexData)

# # view
# sexDF

# append all to sexData
sexData.append(sexData0)
# sexData.append(sexData1)
# sexData.append(sexData2)
# sexData.append(sexData3)
# sexData.append(sexData4)
# sexData.append(sexData5)

    
# write to sex data to csv
# as backup
sexDF.to_csv("NY_sexData.csv")
## Create Dataframe on Race Data
acs.filter_tables('RACE', by = 'description')
totalRaceData = acs.filter_variables('B02001')
totalRaceData
raceData = []
raceData0 = [] # 0 - 9
raceData1 = [] # 10 - 19
raceData2 = [] # 20 - 29
raceData3 = [] # 30 - 39
raceData4 = [] # 40 - 49
raceData5 = [] # 50 - 54


# renamed column names
rename = ["Total: Two or more races: Two races including Some other race", "Total: Some other race alone", 
          "Total: Two or more races", "Total: Two or more races excluding Some other race, and three or more races",
          "Total: White alone", "Total:",
          "Total: Native Hawaiian and Other Pacific Islander alone",
          "Total: Asian alone", "Total: American Indian and Alaska Native alone",
          "Total: Black or African American alone"]

# run in groups of 10 because of 'too many requests' error

for i in range(10):

    name = counties[i] + ", NY"
    currentDF = acs.from_county(name, variables = 'B01001')
    current = counties[i]
    
    # if first round through
    # create labels to rename the dataframes
    if i == 0:
        indexVals = totalRaceData.index
        labels = totalRaceData['label'].to_list()
        labelsDict = OrderedDict({})
        for key in indexVals:
            for value in labels:
                labelsDict[key] = value
                labels.remove(value)
                break

        labelsDict.update({"geometry": "geometry"})
        labelsDict.move_to_end("geometry", last = False)

        labelsDict.update({"GEOID": "GEOID"})
        labelsDict.move_to_end("GEOID", last = False)

        labelsDict.update({"state": "state"})
        labelsDict.update({"county": "county"})
        labelsDict.update({"tract": "tract"})
        labelsDict.update({"NAME": "NAME"})
    
    # rename the dataframe
    currentDF.columns = currentDF.columns.to_series().map(labelsDict)
    

    # rename the columns 
    currentDF = currentDF.set_axis(rename, axis = 1)
    
    
    # get the sums for each category and put into a dictonary
    current_sums = currentDF.sum().to_dict()
    current_sums = OrderedDict(current_sums)

    current_sums.update({"County": current})
    current_sums.move_to_end("County", last = False)

    current_sums = dict(current_sums)

    # if first run through
    # get the headers for the final dataframe
    # append to the final dataframe
    if i == 0:
        headers = list(current_sums.keys())
        raceData.append(headers)
        
    # create inner_row to append
    # and append to final dataframe
    inner_row = list(current_sums.values())
    raceData0.append(inner_row)


# # make into dataframe
# raceDF = pd.DataFrame(raceData)

# # view
# sexDF

# append all to raceData
raceData.append(raceData0)
# raceData.append(raceData1)
# raceData.append(raceData2)
# raceData.append(raceData3)
# raceData.append(raceData4)
# raceData.append(raceData5)

    
## Create Dataframe on Education
acs.filter_tables('EDUCATION', by = 'description')
totalEducationData = acs.filter_variables('B15002')
totalEducationData['label'].unique()


for i in range(len(list(totalEducationData['label'].unique()))):
    print(list(totalEducationData['label'].unique())[i])
educationData = []
educationData0 = [] # 0 - 9
educationData1 = [] # 10 - 19
educationData2 = [] # 20 - 29
educationData3 = [] # 30 - 39
educationData4 = [] # 40 - 49
educationData5 = [] # 50 - 54

# the columns we are looking for


# renamed column names
rename = ["Total: Two or more races: Two races including Some other race", "Total: Some other race alone", 
          "Total: Two or more races", "Total: Two or more races excluding Some other race, and three or more races",
          "Total: White alone", "Total:",
          "Total: Native Hawaiian and Other Pacific Islander alone",
          "Total: Asian alone", "Total: American Indian and Alaska Native alone",
          "Total: Black or African American alone"]

# run in groups of 10 because of 'too many requests' error

for i in range(10):

    name = counties[i] + ", NY"
    currentDF = acs.from_county(name, variables = 'B01001')
    current = counties[i]
    
    # if first round through
    # create labels to rename the dataframes
    if i == 0:
        indexVals = totalRaceData.index
        labels = totalRaceData['label'].to_list()
        labelsDict = OrderedDict({})
        for key in indexVals:
            for value in labels:
                labelsDict[key] = value
                labels.remove(value)
                break

        labelsDict.update({"geometry": "geometry"})
        labelsDict.move_to_end("geometry", last = False)

        labelsDict.update({"GEOID": "GEOID"})
        labelsDict.move_to_end("GEOID", last = False)

        labelsDict.update({"state": "state"})
        labelsDict.update({"county": "county"})
        labelsDict.update({"tract": "tract"})
        labelsDict.update({"NAME": "NAME"})
    
    # rename the dataframe
    currentDF.columns = currentDF.columns.to_series().map(labelsDict)
    

    # rename the columns 
    currentDF = currentDF.set_axis(rename, axis = 1)
    
    
    # get the sums for each category and put into a dictonary
    current_sums = currentDF.sum().to_dict()
    current_sums = OrderedDict(current_sums)

    current_sums.update({"County": current})
    current_sums.move_to_end("County", last = False)

    current_sums = dict(current_sums)

    # if first run through
    # get the headers for the final dataframe
    # append to the final dataframe
    if i == 0:
        headers = list(current_sums.keys())
        raceData.append(headers)
        
    # create inner_row to append
    # and append to final dataframe
    inner_row = list(current_sums.values())
    raceData0.append(inner_row)


# # make into dataframe
# raceDF = pd.DataFrame(raceData)

# # view
# sexDF

# append all to sexData
raceData.append(raceData0)
# raceData.append(raceData1)
# raceData.append(raceData2)
# raceData.append(raceData3)
# raceData.append(raceData4)
# raceData.append(raceData5)

    
